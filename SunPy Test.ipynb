{
 "cells": [
  {
   "cell_type": "code",
   "execution_count": 1,
   "metadata": {
    "collapsed": false,
    "scrolled": true
   },
   "outputs": [],
   "source": [
    "#Test comment\n",
    "import sunpy.map"
   ]
  },
  {
   "cell_type": "code",
   "execution_count": 8,
   "metadata": {
    "collapsed": false
   },
   "outputs": [
    {
     "name": "stdout",
     "output_type": "stream",
     "text": [
      "Downloading http://data.sunpy.org/sunpy/v1/AIA20110607_063301_0131_lowres.fits [Done]\n",
      "Downloading http://data.sunpy.org/sunpy/v1/AIA20110607_063302_0171_lowres.fits [Done]\n",
      "Downloading http://data.sunpy.org/sunpy/v1/AIA20110607_063302_0211_lowres.fits [Done]\n",
      "Downloading http://data.sunpy.org/sunpy/v1/AIA20110607_063303_0335_lowres.fits [Done]\n",
      "Downloading http://data.sunpy.org/sunpy/v1/AIA20110607_063305_0094_lowres.fits [Done]\n",
      "Downloading http://data.sunpy.org/sunpy/v1/AIA20110607_063305_1600_lowres.fits [Done]\n",
      "Downloading http://data.sunpy.org/sunpy/v1/AIA20110607_063307_0193_lowres.fits [Done]\n",
      "Downloading http://data.sunpy.org/sunpy/v1/AIA20110607_063307_0193_cutout.fits [Done]\n",
      "Downloading http://data.sunpy.org/sunpy/v1/AIA20110607_063931_0193_cutout.fits [Done]\n",
      "Downloading http://data.sunpy.org/sunpy/v1/AIA20110607_064555_0193_cutout.fits [Done]\n",
      "Downloading http://data.sunpy.org/sunpy/v1/AIA20110607_065219_0193_cutout.fits [Done]\n",
      "Downloading http://data.sunpy.org/sunpy/v1/AIA20110607_065843_0193_cutout.fits [Done]\n",
      "Downloading http://data.sunpy.org/sunpy/v1/eit_l1_20110607_203753.fits [Done]\n",
      "Downloading http://data.sunpy.org/sunpy/v1/hsi_image_20110607_063300.fits [Done]\n",
      "Downloading http://data.sunpy.org/sunpy/v1/BIR_20110607_062400_10.fit [Done]\n",
      "Downloading http://data.sunpy.org/sunpy/v1/swap_lv1_20110607_063329.fits [Done]\n",
      "Downloading http://data.sunpy.org/sunpy/v1/aiacalibim5.fits.gz [Done]\n",
      "Downloading http://data.sunpy.org/sunpy/v1/20110607_EVE_L0CS_DIODES_1m.txt [Done]\n",
      "Downloading http://data.sunpy.org/sunpy/v1/lyra_20110607-000000_lev3_std.fits [Done]\n",
      "Downloading http://data.sunpy.org/sunpy/v1/go1520110607.fits [Done]\n",
      "Downloading http://data.sunpy.org/sunpy/v1/glg_cspec_n5_110607_v00.pha [Done]\n",
      "Downloading http://data.sunpy.org/sunpy/v1/swpc_solar_cycle_indices.txt [Done]\n",
      "Downloading http://data.sunpy.org/sunpy/v1/predicted-sunspot-radio-flux.txt [Done]\n",
      "Downloading http://data.sunpy.org/sunpy/v1/hsi_obssumm_20110607_025.fits [Done]\n",
      "Downloading http://data.sunpy.org/sunpy/v1/tca110607.fits [Done]\n"
     ]
    }
   ],
   "source": [
    "# Download the data if don't already have a local copy\n",
    "sunpy.data.download_sample_data()"
   ]
  },
  {
   "cell_type": "code",
   "execution_count": 2,
   "metadata": {
    "collapsed": false
   },
   "outputs": [
    {
     "data": {
      "application/vnd.jupyter.widget-view+json": {
       "model_id": "b639c3fe157a44dbb352232da4cb6f07",
       "version_major": 2,
       "version_minor": 0
      },
      "text/plain": [
       "HBox(children=(IntProgress(value=0, description='Files Downloaded', max=26, style=ProgressStyle(description_wi…"
      ]
     },
     "metadata": {},
     "output_type": "display_data"
    },
    {
     "data": {
      "application/vnd.jupyter.widget-view+json": {
       "model_id": "d676becc2e0746df84e7111dad8fca9b",
       "version_major": 2,
       "version_minor": 0
      },
      "text/plain": [
       "HBox(children=(IntProgress(value=0, description='AIA20110607_063302_0211_lowres.fits', max=987840, style=Progr…"
      ]
     },
     "metadata": {},
     "output_type": "display_data"
    },
    {
     "data": {
      "application/vnd.jupyter.widget-view+json": {
       "model_id": "438d460d2dbe4e49bfd8cfabe39c0ec9",
       "version_major": 2,
       "version_minor": 0
      },
      "text/plain": [
       "HBox(children=(IntProgress(value=0, description='AIA20110607_063302_0171_lowres.fits', max=973440, style=Progr…"
      ]
     },
     "metadata": {},
     "output_type": "display_data"
    },
    {
     "data": {
      "application/vnd.jupyter.widget-view+json": {
       "model_id": "a2b5ff5b79f44808bd7c8ba119c3a9f2",
       "version_major": 2,
       "version_minor": 0
      },
      "text/plain": [
       "HBox(children=(IntProgress(value=0, description='AIA20110607_063301_0131_lowres.fits', max=961920, style=Progr…"
      ]
     },
     "metadata": {},
     "output_type": "display_data"
    },
    {
     "data": {
      "application/vnd.jupyter.widget-view+json": {
       "model_id": "05c82146b1714cee9917433e422af95d",
       "version_major": 2,
       "version_minor": 0
      },
      "text/plain": [
       "HBox(children=(IntProgress(value=0, description='HMI20110607_063211_los_lowres.fits', max=8398080, style=Progr…"
      ]
     },
     "metadata": {},
     "output_type": "display_data"
    },
    {
     "data": {
      "application/vnd.jupyter.widget-view+json": {
       "model_id": "59c7875299f14835bb23fef2e4a8f149",
       "version_major": 2,
       "version_minor": 0
      },
      "text/plain": [
       "HBox(children=(IntProgress(value=0, description='aiacalibim5.fits.gz', max=21075026, style=ProgressStyle(descr…"
      ]
     },
     "metadata": {},
     "output_type": "display_data"
    },
    {
     "data": {
      "application/vnd.jupyter.widget-view+json": {
       "model_id": "bbbcf519e6d24de4b176c7c3e0f54917",
       "version_major": 2,
       "version_minor": 0
      },
      "text/plain": [
       "HBox(children=(IntProgress(value=0, description='AIA20110607_063303_0335_lowres.fits', max=979200, style=Progr…"
      ]
     },
     "metadata": {},
     "output_type": "display_data"
    },
    {
     "data": {
      "application/vnd.jupyter.widget-view+json": {
       "model_id": "613bff66c3844da2bc50426cbcd9192a",
       "version_major": 2,
       "version_minor": 0
      },
      "text/plain": [
       "HBox(children=(IntProgress(value=0, description='AIA20110607_063305_0094_lowres.fits', max=970560, style=Progr…"
      ]
     },
     "metadata": {},
     "output_type": "display_data"
    },
    {
     "data": {
      "application/vnd.jupyter.widget-view+json": {
       "model_id": "33e189d38be64451b34453d83d89a022",
       "version_major": 2,
       "version_minor": 0
      },
      "text/plain": [
       "HBox(children=(IntProgress(value=0, description='AIA20110607_063305_1600_lowres.fits', max=930240, style=Progr…"
      ]
     },
     "metadata": {},
     "output_type": "display_data"
    },
    {
     "data": {
      "application/vnd.jupyter.widget-view+json": {
       "model_id": "bbc78f525de24720b2e1821d2ebd6747",
       "version_major": 2,
       "version_minor": 0
      },
      "text/plain": [
       "HBox(children=(IntProgress(value=0, description='AIA20110607_063307_0193_lowres.fits', max=1002240, style=Prog…"
      ]
     },
     "metadata": {},
     "output_type": "display_data"
    },
    {
     "data": {
      "application/vnd.jupyter.widget-view+json": {
       "model_id": "6c77ea13241447079916bf25a7971d62",
       "version_major": 2,
       "version_minor": 0
      },
      "text/plain": [
       "HBox(children=(IntProgress(value=0, description='AIA20110607_063931_0193_cutout.fits', max=1454400, style=Prog…"
      ]
     },
     "metadata": {},
     "output_type": "display_data"
    },
    {
     "data": {
      "application/vnd.jupyter.widget-view+json": {
       "model_id": "e4b0b4ccdf3c401d81e6b0ed7f8a5e01",
       "version_major": 2,
       "version_minor": 0
      },
      "text/plain": [
       "HBox(children=(IntProgress(value=0, description='AIA20110607_063307_0193_cutout.fits', max=1448640, style=Prog…"
      ]
     },
     "metadata": {},
     "output_type": "display_data"
    },
    {
     "data": {
      "application/vnd.jupyter.widget-view+json": {
       "model_id": "b8b8183dff90474c98a9f186e8b03886",
       "version_major": 2,
       "version_minor": 0
      },
      "text/plain": [
       "HBox(children=(IntProgress(value=0, description='AIA20110607_064555_0193_cutout.fits', max=1454400, style=Prog…"
      ]
     },
     "metadata": {},
     "output_type": "display_data"
    },
    {
     "data": {
      "application/vnd.jupyter.widget-view+json": {
       "model_id": "10916daa95bf4c9e87f51bf600db73c0",
       "version_major": 2,
       "version_minor": 0
      },
      "text/plain": [
       "HBox(children=(IntProgress(value=0, description='AIA20110607_065843_0193_cutout.fits', max=1454400, style=Prog…"
      ]
     },
     "metadata": {},
     "output_type": "display_data"
    },
    {
     "data": {
      "application/vnd.jupyter.widget-view+json": {
       "model_id": "537f20312a2648b2a8d3ad4b4af4f666",
       "version_major": 2,
       "version_minor": 0
      },
      "text/plain": [
       "HBox(children=(IntProgress(value=0, description='AIA20110607_065219_0193_cutout.fits', max=1457280, style=Prog…"
      ]
     },
     "metadata": {},
     "output_type": "display_data"
    },
    {
     "data": {
      "application/vnd.jupyter.widget-view+json": {
       "model_id": "0fde8dba052f4e02926f477ba12a5e5b",
       "version_major": 2,
       "version_minor": 0
      },
      "text/plain": [
       "HBox(children=(IntProgress(value=0, description='eit_l1_20110607_203753.fits', max=8398080, style=ProgressStyl…"
      ]
     },
     "metadata": {},
     "output_type": "display_data"
    },
    {
     "data": {
      "application/vnd.jupyter.widget-view+json": {
       "model_id": "13092afb581747edbb4568c953e77d4b",
       "version_major": 2,
       "version_minor": 0
      },
      "text/plain": [
       "HBox(children=(IntProgress(value=0, description='BIR_20110607_062400_10.fit', max=760320, style=ProgressStyle(…"
      ]
     },
     "metadata": {},
     "output_type": "display_data"
    },
    {
     "data": {
      "application/vnd.jupyter.widget-view+json": {
       "model_id": "d9f3eae91ea949298078bbf499bf7d17",
       "version_major": 2,
       "version_minor": 0
      },
      "text/plain": [
       "HBox(children=(IntProgress(value=0, description='hsi_image_20110607_063300.fits', max=115200, style=ProgressSt…"
      ]
     },
     "metadata": {},
     "output_type": "display_data"
    },
    {
     "data": {
      "application/vnd.jupyter.widget-view+json": {
       "model_id": "72d00aec9e584dac931c9c70743ce259",
       "version_major": 2,
       "version_minor": 0
      },
      "text/plain": [
       "HBox(children=(IntProgress(value=0, description='swap_lv1_20110607_063329.fits', max=2111040, style=ProgressSt…"
      ]
     },
     "metadata": {},
     "output_type": "display_data"
    },
    {
     "data": {
      "application/vnd.jupyter.widget-view+json": {
       "model_id": "476edd518cdf4195a504bd86fd73a7d5",
       "version_major": 2,
       "version_minor": 0
      },
      "text/plain": [
       "HBox(children=(IntProgress(value=0, description='20110607_EVE_L0CS_DIODES_1m.txt', max=242551, style=ProgressS…"
      ]
     },
     "metadata": {},
     "output_type": "display_data"
    },
    {
     "data": {
      "application/vnd.jupyter.widget-view+json": {
       "model_id": "75edf3c9709b456d9d61c15611f33c02",
       "version_major": 2,
       "version_minor": 0
      },
      "text/plain": [
       "HBox(children=(IntProgress(value=0, description='lyra_20110607-000000_lev3_std.fits', max=63360, style=Progres…"
      ]
     },
     "metadata": {},
     "output_type": "display_data"
    },
    {
     "data": {
      "application/vnd.jupyter.widget-view+json": {
       "model_id": "82b4ca09ad63412192eaa88a7515e5f5",
       "version_major": 2,
       "version_minor": 0
      },
      "text/plain": [
       "HBox(children=(IntProgress(value=0, description='go1520110607.fits', max=694080, style=ProgressStyle(descripti…"
      ]
     },
     "metadata": {},
     "output_type": "display_data"
    },
    {
     "data": {
      "application/vnd.jupyter.widget-view+json": {
       "model_id": "738f1c5c03524e4f8d899c1d62aa13a8",
       "version_major": 2,
       "version_minor": 0
      },
      "text/plain": [
       "HBox(children=(IntProgress(value=0, description='glg_cspec_n5_110607_v00.pha', max=5526720, style=ProgressStyl…"
      ]
     },
     "metadata": {},
     "output_type": "display_data"
    },
    {
     "data": {
      "application/vnd.jupyter.widget-view+json": {
       "model_id": "ef18f47664c74790861ccc70ae60f961",
       "version_major": 2,
       "version_minor": 0
      },
      "text/plain": [
       "HBox(children=(IntProgress(value=0, description='swpc_solar_cycle_indices.txt', max=25518, style=ProgressStyle…"
      ]
     },
     "metadata": {},
     "output_type": "display_data"
    },
    {
     "data": {
      "application/vnd.jupyter.widget-view+json": {
       "model_id": "b875a815e6a344b5bd398743e42e5aa2",
       "version_major": 2,
       "version_minor": 0
      },
      "text/plain": [
       "HBox(children=(IntProgress(value=0, description='predicted-sunspot-radio-flux.txt', max=4231, style=ProgressSt…"
      ]
     },
     "metadata": {},
     "output_type": "display_data"
    },
    {
     "data": {
      "application/vnd.jupyter.widget-view+json": {
       "model_id": "e45cf35aad334009800910d41a14d01c",
       "version_major": 2,
       "version_minor": 0
      },
      "text/plain": [
       "HBox(children=(IntProgress(value=0, description='hsi_obssumm_20110607_025.fits', max=1552320, style=ProgressSt…"
      ]
     },
     "metadata": {},
     "output_type": "display_data"
    },
    {
     "data": {
      "application/vnd.jupyter.widget-view+json": {
       "model_id": "869da2d4dd25446a8a83d9f17594f5b9",
       "version_major": 2,
       "version_minor": 0
      },
      "text/plain": [
       "HBox(children=(IntProgress(value=0, description='tca110607.fits', max=60480, style=ProgressStyle(description_w…"
      ]
     },
     "metadata": {},
     "output_type": "display_data"
    },
    {
     "name": "stdout",
     "output_type": "stream",
     "text": [
      "\n"
     ]
    }
   ],
   "source": [
    "import sunpy.data.sample"
   ]
  },
  {
   "cell_type": "code",
   "execution_count": 3,
   "metadata": {
    "collapsed": false
   },
   "outputs": [],
   "source": [
    "import matplotlib.cm as cm"
   ]
  },
  {
   "cell_type": "code",
   "execution_count": 4,
   "metadata": {
    "collapsed": true
   },
   "outputs": [],
   "source": [
    "%matplotlib inline"
   ]
  },
  {
   "cell_type": "code",
   "execution_count": 5,
   "metadata": {
    "collapsed": true
   },
   "outputs": [],
   "source": [
    "aia = sunpy.map.Map(sunpy.data.sample.AIA_171_IMAGE)"
   ]
  },
  {
   "cell_type": "code",
   "execution_count": 6,
   "metadata": {
    "collapsed": false
   },
   "outputs": [
    {
     "data": {
      "image/png": "[encoded data removed]",
      "text/plain": [
       "<Figure size 432x288 with 2 Axes>"
      ]
     },
     "metadata": {
      "needs_background": "light"
     },
     "output_type": "display_data"
    }
   ],
   "source": [
    "aia.peek()"
   ]
  },
  {
   "cell_type": "code",
   "execution_count": null,
   "metadata": {},
   "outputs": [],
   "source": []
  }
 ],
 "metadata": {
  "kernelspec": {
   "display_name": "sunpy",
   "language": "python",
   "name": "sunpy"
  },
  "language_info": {
   "codemirror_mode": {
    "name": "ipython",
    "version": 3
   },
   "file_extension": ".py",
   "mimetype": "text/x-python",
   "name": "python",
   "nbconvert_exporter": "python",
   "pygments_lexer": "ipython3",
   "version": "3.7.3"
  }
 },
 "nbformat": 4,
 "nbformat_minor": 2
}
